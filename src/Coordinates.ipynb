{
 "cells": [
  {
   "cell_type": "markdown",
   "id": "893d3c64",
   "metadata": {},
   "source": [
    "# Decoding Coordinates from the City Database"
   ]
  },
  {
   "cell_type": "markdown",
   "id": "8a21da9d",
   "metadata": {},
   "source": [
    "We load some coordinates of known places:"
   ]
  },
  {
   "cell_type": "code",
   "execution_count": 3,
   "id": "43524735",
   "metadata": {},
   "outputs": [
    {
     "data": {
      "text/html": [
       "<div>\n",
       "<style scoped>\n",
       "    .dataframe tbody tr th:only-of-type {\n",
       "        vertical-align: middle;\n",
       "    }\n",
       "\n",
       "    .dataframe tbody tr th {\n",
       "        vertical-align: top;\n",
       "    }\n",
       "\n",
       "    .dataframe thead th {\n",
       "        text-align: right;\n",
       "    }\n",
       "</style>\n",
       "<table border=\"1\" class=\"dataframe\">\n",
       "  <thead>\n",
       "    <tr style=\"text-align: right;\">\n",
       "      <th></th>\n",
       "      <th>place</th>\n",
       "      <th>scr_e</th>\n",
       "      <th>scr_n</th>\n",
       "      <th>db_i_e</th>\n",
       "      <th>db_i_n</th>\n",
       "      <th>db_f_e</th>\n",
       "      <th>db_f_n</th>\n",
       "      <th>OSM_lat</th>\n",
       "      <th>OSM_lon</th>\n",
       "      <th>utm_e</th>\n",
       "      <th>utm_n</th>\n",
       "      <th>utm_zone</th>\n",
       "      <th>gkk_e</th>\n",
       "      <th>gkk_n</th>\n",
       "      <th>5671_e</th>\n",
       "      <th>5671_n</th>\n",
       "    </tr>\n",
       "  </thead>\n",
       "  <tbody>\n",
       "    <tr>\n",
       "      <th>0</th>\n",
       "      <td>Salzf</td>\n",
       "      <td>4507053</td>\n",
       "      <td>5729263</td>\n",
       "      <td>2488688</td>\n",
       "      <td>5629157</td>\n",
       "      <td>720056.44</td>\n",
       "      <td>5739412.0</td>\n",
       "      <td>51.69384</td>\n",
       "      <td>12.17501</td>\n",
       "      <td>304760.94</td>\n",
       "      <td>5730765.42</td>\n",
       "      <td>33U</td>\n",
       "      <td>4512205</td>\n",
       "      <td>5728851</td>\n",
       "      <td>4512101</td>\n",
       "      <td>5729393</td>\n",
       "    </tr>\n",
       "    <tr>\n",
       "      <th>1</th>\n",
       "      <td>Zörbig</td>\n",
       "      <td>4503018</td>\n",
       "      <td>5721808</td>\n",
       "      <td>2481021</td>\n",
       "      <td>5627271</td>\n",
       "      <td>716222.94</td>\n",
       "      <td>5731870.0</td>\n",
       "      <td>51.62776</td>\n",
       "      <td>12.11612</td>\n",
       "      <td>300401.46</td>\n",
       "      <td>5723577.59</td>\n",
       "      <td>33U</td>\n",
       "      <td>4508145</td>\n",
       "      <td>5721491</td>\n",
       "      <td>4508040</td>\n",
       "      <td>5722033</td>\n",
       "    </tr>\n",
       "    <tr>\n",
       "      <th>2</th>\n",
       "      <td>Halle</td>\n",
       "      <td>4490517</td>\n",
       "      <td>5705596</td>\n",
       "      <td>2456868</td>\n",
       "      <td>5623144</td>\n",
       "      <td>704146.00</td>\n",
       "      <td>5715363.0</td>\n",
       "      <td>51.48418</td>\n",
       "      <td>11.93389</td>\n",
       "      <td>703699.92</td>\n",
       "      <td>5707752.03</td>\n",
       "      <td>32U</td>\n",
       "      <td>4495512</td>\n",
       "      <td>5705512</td>\n",
       "      <td>4495407</td>\n",
       "      <td>5706054</td>\n",
       "    </tr>\n",
       "    <tr>\n",
       "      <th>3</th>\n",
       "      <td>Wismar</td>\n",
       "      <td>4611018</td>\n",
       "      <td>5935531</td>\n",
       "      <td>2685458</td>\n",
       "      <td>5681318</td>\n",
       "      <td>818441.00</td>\n",
       "      <td>5948058.0</td>\n",
       "      <td>53.52240</td>\n",
       "      <td>13.79450</td>\n",
       "      <td>420080.04</td>\n",
       "      <td>5931061.87</td>\n",
       "      <td>33U</td>\n",
       "      <td>4619115</td>\n",
       "      <td>5933817</td>\n",
       "      <td>4619014</td>\n",
       "      <td>5934361</td>\n",
       "    </tr>\n",
       "    <tr>\n",
       "      <th>4</th>\n",
       "      <td>Kassel</td>\n",
       "      <td>4320252</td>\n",
       "      <td>5687476</td>\n",
       "      <td>2116909</td>\n",
       "      <td>5617475</td>\n",
       "      <td>534166.69</td>\n",
       "      <td>5692685.0</td>\n",
       "      <td>51.31408</td>\n",
       "      <td>9.48826</td>\n",
       "      <td>534029.09</td>\n",
       "      <td>5684865.90</td>\n",
       "      <td>32U</td>\n",
       "      <td>4324992</td>\n",
       "      <td>5689580</td>\n",
       "      <td>4324884</td>\n",
       "      <td>5690124</td>\n",
       "    </tr>\n",
       "    <tr>\n",
       "      <th>5</th>\n",
       "      <td>Emden</td>\n",
       "      <td>4173357</td>\n",
       "      <td>5921224</td>\n",
       "      <td>1522226</td>\n",
       "      <td>5674711</td>\n",
       "      <td>380556.66</td>\n",
       "      <td>5921630.5</td>\n",
       "      <td>53.36584</td>\n",
       "      <td>7.20555</td>\n",
       "      <td>380599.80</td>\n",
       "      <td>5914469.08</td>\n",
       "      <td>32U</td>\n",
       "      <td>4181051</td>\n",
       "      <td>5925611</td>\n",
       "      <td>4180943</td>\n",
       "      <td>5926161</td>\n",
       "    </tr>\n",
       "  </tbody>\n",
       "</table>\n",
       "</div>"
      ],
      "text/plain": [
       "    place    scr_e    scr_n   db_i_e   db_i_n     db_f_e     db_f_n   OSM_lat  \\\n",
       "0   Salzf  4507053  5729263  2488688  5629157  720056.44  5739412.0  51.69384   \n",
       "1  Zörbig  4503018  5721808  2481021  5627271  716222.94  5731870.0  51.62776   \n",
       "2   Halle  4490517  5705596  2456868  5623144  704146.00  5715363.0  51.48418   \n",
       "3  Wismar  4611018  5935531  2685458  5681318  818441.00  5948058.0  53.52240   \n",
       "4  Kassel  4320252  5687476  2116909  5617475  534166.69  5692685.0  51.31408   \n",
       "5   Emden  4173357  5921224  1522226  5674711  380556.66  5921630.5  53.36584   \n",
       "\n",
       "    OSM_lon      utm_e       utm_n utm_zone    gkk_e    gkk_n   5671_e  \\\n",
       "0  12.17501  304760.94  5730765.42      33U  4512205  5728851  4512101   \n",
       "1  12.11612  300401.46  5723577.59      33U  4508145  5721491  4508040   \n",
       "2  11.93389  703699.92  5707752.03      32U  4495512  5705512  4495407   \n",
       "3  13.79450  420080.04  5931061.87      33U  4619115  5933817  4619014   \n",
       "4   9.48826  534029.09  5684865.90      32U  4324992  5689580  4324884   \n",
       "5   7.20555  380599.80  5914469.08      32U  4181051  5925611  4180943   \n",
       "\n",
       "    5671_n  \n",
       "0  5729393  \n",
       "1  5722033  \n",
       "2  5706054  \n",
       "3  5934361  \n",
       "4  5690124  \n",
       "5  5926161  "
      ]
     },
     "execution_count": 3,
     "metadata": {},
     "output_type": "execute_result"
    }
   ],
   "source": [
    "import pandas as pd\n",
    "import matplotlib.pyplot as plt\n",
    "\n",
    "df = pd.read_csv(\"../data/coords.tsv\", sep='\\t')\n",
    "df"
   ]
  },
  {
   "cell_type": "markdown",
   "id": "b17fead4",
   "metadata": {},
   "source": [
    "The columns explained:\n",
    "| column | explanation |\n",
    "|:-------|:------------|\n",
    "| place | name of the city |\n",
    "| scr_e / scr_n | easting/northing of screen coordinates (manually read from below mouse pointer) |\n",
    "| db_i_e / db_i_n | easting/northing of database coordinates (as 32 bit unsigned integers) |\n",
    "| db_f_e / db_f_n | easting/northing of database coordinates (as 64 bit floats (actually: double)) |\n",
    "| OSM_lat / OSM_lon | latitude/longitude from OpenStreetMap (manually compared to city sign position) |\n",
    "| utm_e / utm_n | easting/northing in UTM/WGS84 derived from OSM_lat / OSM_lon |\n",
    "| gkk_e / gkk_n | easting/northing in GKK derived from OSM_lat / OSM_lon |"
   ]
  },
  {
   "cell_type": "markdown",
   "id": "9eff55d5",
   "metadata": {},
   "source": [
    "Let us plot some of these coordinates:"
   ]
  },
  {
   "cell_type": "code",
   "execution_count": 4,
   "id": "8e949416",
   "metadata": {},
   "outputs": [
    {
     "data": {
      "image/png": "[encoded data removed]",
      "text/plain": [
       "<Figure size 640x480 with 1 Axes>"
      ]
     },
     "metadata": {},
     "output_type": "display_data"
    }
   ],
   "source": [
    "plt.plot(df[\"gkk_e\"], df[\"gkk_n\"], 'o', label=\"GKK\")\n",
    "plt.plot(df[\"5671_e\"], df[\"5671_n\"], 'o', label=\"5671\")\n",
    "plt.plot(df[\"scr_e\"], df[\"scr_n\"], 'o', label=\"screen\")\n",
    "plt.legend()\n",
    "plt.show()"
   ]
  },
  {
   "cell_type": "code",
   "execution_count": 5,
   "id": "9de38a8d",
   "metadata": {},
   "outputs": [
    {
     "data": {
      "text/plain": [
       "0    5048\n",
       "1    5022\n",
       "2    4890\n",
       "3    7996\n",
       "4    4632\n",
       "5    7586\n",
       "dtype: int64"
      ]
     },
     "execution_count": 5,
     "metadata": {},
     "output_type": "execute_result"
    }
   ],
   "source": [
    "df[\"5671_e\"] - df[\"scr_e\"]"
   ]
  },
  {
   "cell_type": "markdown",
   "id": "89b365a0",
   "metadata": {},
   "source": [
    "My idea now is to take the \"well-formed\" coordinates (e.g., from OSM), transform them using all projections available in osgeo and then compute the difference between the result and the screen coordinates from D-Sat. Ideally, we the \"true\" projection can be found as the one with the smallest distance."
   ]
  },
  {
   "cell_type": "code",
   "execution_count": 13,
   "id": "542aecbc",
   "metadata": {},
   "outputs": [
    {
     "name": "stdout",
     "output_type": "stream",
     "text": [
      "errors: 5233\n",
      "deltas: 6563\n"
     ]
    },
    {
     "data": {
      "image/png": "[encoded data removed]",
      "text/plain": [
       "<Figure size 640x480 with 1 Axes>"
      ]
     },
     "metadata": {},
     "output_type": "display_data"
    }
   ],
   "source": [
    "from osgeo import ogr\n",
    "from osgeo import osr\n",
    "import sqlite3\n",
    "\n",
    "import contextlib\n",
    "import os\n",
    "# redired stderr to dev null\n",
    "devnull = open(os.devnull, 'w')\n",
    "contextlib.redirect_stderr(devnull)\n",
    "\n",
    "\n",
    "def transform(src, trg, coords):\n",
    "    \"\"\"Transform coords from src projection to trg projection.\"\"\"\n",
    "    source = osr.SpatialReference()\n",
    "    source.ImportFromEPSG(src)\n",
    "    target = osr.SpatialReference()\n",
    "    target.ImportFromEPSG(trg)\n",
    "\n",
    "    transform = osr.CoordinateTransformation(source, target)\n",
    "\n",
    "    trans_coords = []\n",
    "    for i, coord in coords.iterrows():\n",
    "        c = coord.tolist()\n",
    "        point = ogr.CreateGeometryFromWkt(\"POINT (\" + str(c[0]) + \" \" + str(c[1]) + \")\")\n",
    "        point.Transform(transform)\n",
    "        p = point.GetPoint()\n",
    "        trans_coords.append([int(p[0]), int(p[1])])\n",
    "    return pd.DataFrame(trans_coords, columns=[\"n\", \"e\"])\n",
    "\n",
    "\n",
    "def diff(src, trg, src_coords, trg_coords):\n",
    "    \"\"\"Transform src_coords from src projection to trg projection and compute difference to trg_coords.\"\"\"\n",
    "    src_coords_trans = transform(src, trg, src_coords)\n",
    "    delta_x = trg_coords.iloc[:, 0] - src_coords_trans.iloc[:, 0]\n",
    "    delta_y = trg_coords.iloc[:, 1] - src_coords_trans.iloc[:, 1]\n",
    "    \n",
    "    return pd.DataFrame({\"dx\" : delta_x, \"dy\" : delta_y})\n",
    "\n",
    "\n",
    "# get all projection IDs from proj database\n",
    "con = sqlite3.connect(\"/usr/share/proj/proj.db\")\n",
    "codes = pd.read_sql_query(\"SELECT code FROM geodetic_crs UNION SELECT code FROM projected_crs\", con)\n",
    "\n",
    "deltas = []\n",
    "errors = []\n",
    "#for epsg in [3838, 4179, 4284, 5671, 31468]:\n",
    "#for epsg in [3838, 31468]:\n",
    "for epsg in codes[\"code\"].tolist():\n",
    "    try:\n",
    "        delta = diff(4326, epsg, df[[\"OSM_lat\", \"OSM_lon\"]], df[[\"scr_n\", \"scr_e\"]])\n",
    "        deltas.append([epsg, delta.dx.mean(), delta.dy.mean()])\n",
    "    except:\n",
    "        errors.append(epsg)\n",
    "    \n",
    "deltas = pd.DataFrame(deltas, columns=[\"epsg\", \"dx\", \"dy\"])\n",
    "\n",
    "print(\"errors:\", len(errors))\n",
    "print(\"deltas:\", len(deltas))\n",
    "\n",
    "# filter projections with \"small\" differences (Δlat < 10km and Δlon < 10km)\n",
    "deltas_filtered = deltas.loc[(deltas.dx.abs() < 10000) & (deltas.dy.abs() < 10000)]\n",
    "\n",
    "# plot coordinates for filtered propjections\n",
    "fig, ax = plt.subplots()\n",
    "deltas_filtered.plot(\"dx\", \"dy\", kind=\"scatter\", ax=ax)\n",
    "for k, v in deltas_filtered.iterrows():\n",
    "    ax.annotate(int(v[\"epsg\"]), v[[\"dx\", \"dy\"]])\n",
    "plt.show()"
   ]
  }
 ],
 "metadata": {
  "kernelspec": {
   "display_name": "Python 3 (ipykernel)",
   "language": "python",
   "name": "python3"
  },
  "language_info": {
   "codemirror_mode": {
    "name": "ipython",
    "version": 3
   },
   "file_extension": ".py",
   "mimetype": "text/x-python",
   "name": "python",
   "nbconvert_exporter": "python",
   "pygments_lexer": "ipython3",
   "version": "3.11.2"
  }
 },
 "nbformat": 4,
 "nbformat_minor": 5
}
