{
 "cells": [
  {
   "cell_type": "markdown",
   "id": "eda1a36b",
   "metadata": {},
   "source": [
    "# Searching the tile index"
   ]
  },
  {
   "cell_type": "markdown",
   "id": "28a953dc",
   "metadata": {},
   "source": [
    "We assume a specific number of bytes is used to represent the coordinates and then create such numbers starting /with each byte/. We can then analyse and visualise relationships between those numbers. \n",
    "\n",
    "The underlying assumption is that – if the two coordinates are close to each other – we should be see a grid pattern between the two numbers."
   ]
  },
  {
   "cell_type": "code",
   "execution_count": null,
   "id": "7b6f2378",
   "metadata": {},
   "outputs": [],
   "source": [
    "from struct import unpack\n",
    "\n",
    "# we assume a fixed (but unknown) record size\n",
    "recbytes = 16  # number of bytes in one record\n",
    "valbytes = 4   # number of bytes for one value (number)\n",
    "\n",
    "def to_int(data):\n",
    "    return [\n",
    "            int.from_bytes(\n",
    "                data[i:i+valbytes], byteorder=\"little\", signed=False\n",
    "            ) for i in range(recbytes-valbytes+1)\n",
    "        ]\n",
    "\n",
    "\n",
    "def to_float(data):\n",
    "    return [unpack('<d', data[i:i+valbytes])[0] for i in range(recbytes-valbytes+1)]\n",
    "    \n",
    "with open(\"../un3_2.dat\", \"rb\") as f:\n",
    "    startbytes = 0 # 2000000 # 1200004\n",
    "    lenbytes = 10000\n",
    "    pos = startbytes\n",
    "    f.seek(pos)\n",
    "    ints = []\n",
    "    while ((data := f.read(recbytes)) and pos < startbytes + lenbytes):\n",
    "        # create successive byte values\n",
    "#        ints.append(to_float(data))\n",
    "        ints.append(to_int(data))\n",
    "        pos += recbytes\n",
    "    \n",
    "    \n",
    "    #    f.seek(980000)"
   ]
  },
  {
   "cell_type": "code",
   "execution_count": null,
   "id": "00e7fd60",
   "metadata": {},
   "outputs": [],
   "source": [
    "import pandas as pd\n",
    "\n",
    "df = pd.DataFrame(ints, columns=[\"i\" + str(i) for i in range(recbytes - valbytes + 1)])\n",
    "df"
   ]
  },
  {
   "cell_type": "code",
   "execution_count": null,
   "id": "49334559",
   "metadata": {},
   "outputs": [],
   "source": [
    "import matplotlib.pyplot as plt\n",
    "import seaborn as sns\n",
    "\n",
    "sns.set_theme(style=\"ticks\")\n",
    "plt.rcParams['figure.figsize'] = (10, 10)\n",
    "plt.rcParams['figure.dpi'] = 140\n",
    "\n",
    "#plt.plot(df.i1, df.i2, \"o\", label=\"\")\n",
    "c(df, diag_kind=None)\n",
    "plt.show()"
   ]
  },
  {
   "cell_type": "markdown",
   "id": "ed73235d",
   "metadata": {},
   "source": [
    "# Measuring distances between int values of bytes"
   ]
  },
  {
   "cell_type": "code",
   "execution_count": null,
   "id": "0ad05402",
   "metadata": {},
   "outputs": [],
   "source": [
    "from struct import unpack\n",
    "\n",
    "with open(\"../un3_2.dat\", \"rb\") as f:\n",
    "    vals = []\n",
    "    for pos in range(1300000, 1410000):\n",
    "        f.seek(pos)\n",
    "        vals.append(int.from_bytes(f.read(4), byteorder=\"little\", signed=False))\n",
    "        #vals.append(unpack(\"<d\", f.read(8))[0])\n",
    "        \n",
    "df = pd.DataFrame(vals, columns=[\"ints\"])\n",
    "for i in range(1, 16):\n",
    "    df[\"d\" + str(i)] = df.ints.diff(i)\n",
    "df"
   ]
  },
  {
   "cell_type": "code",
   "execution_count": null,
   "id": "5a65e755",
   "metadata": {},
   "outputs": [],
   "source": [
    "df.hist(bins=30, figsize=(15, 6))\n",
    "plt.show()"
   ]
  },
  {
   "cell_type": "code",
   "execution_count": null,
   "id": "fb71086d",
   "metadata": {},
   "outputs": [],
   "source": [
    "import numpy as np\n",
    "\n",
    "colors = ['b', 'k', 'c', 'r', 'm', 'y', 'g']\n",
    "\n",
    "plt.rcParams['figure.figsize'] = (10, 6)\n",
    "\n",
    "for i in range(4):\n",
    "    plt.plot(df[df.index % i == 0].d4, \"o\", markersize=0.4, color=colors[i])\n",
    "plt.show()"
   ]
  },
  {
   "cell_type": "markdown",
   "id": "b9f3136e",
   "metadata": {},
   "source": [
    "# Let's check the byte distribution"
   ]
  },
  {
   "cell_type": "code",
   "execution_count": null,
   "id": "d88753d8",
   "metadata": {},
   "outputs": [],
   "source": [
    "from struct import unpack\n",
    "import pandas as pd\n",
    "\n",
    "with open(\"../un3_2.dat\", \"rb\") as f:\n",
    "    vals = []\n",
    "    while ((data := f.read(1))):\n",
    "        vals.append(int.from_bytes(data, byteorder=\"little\", signed=False))\n",
    "\n",
    "df = pd.DataFrame(vals, columns=[\"ints\"])"
   ]
  },
  {
   "cell_type": "code",
   "execution_count": null,
   "id": "6b130a4f",
   "metadata": {},
   "outputs": [],
   "source": [
    "    import statsmodels.tsa.stattools as smtsa\n",
    "    import numpy as np\n",
    "\n",
    "    acf = smtsa.acf(df.ints, nlags=100, adjusted=False, fft=False)\n",
    "\n",
    "    lags = np.arange(len(acf))\n",
    "    plt.rcParams['figure.figsize'] = (10, 5)\n",
    "\n",
    "    plt.vlines([6, 10, 16], -0.2, 0.8, color=\"lightgrey\")\n",
    "    plt.plot(lags[1:], acf[1:])\n",
    "    plt.xlabel(\"bytes\")\n",
    "    plt.xlim(xmin=0)\n",
    "    plt.ylabel(\"correlation\")\n",
    "    plt.show()"
   ]
  },
  {
   "cell_type": "code",
   "execution_count": null,
   "id": "ab166288",
   "metadata": {},
   "outputs": [],
   "source": [
    "import matplotlib.pyplot as plt\n",
    "\n",
    "plt.rcParams['figure.dpi'] = 140\n",
    "plt.xlim(0,255)\n",
    "plt.hist(df.ints, bins=256)\n",
    "plt.yscale('log')\n",
    "plt.show()"
   ]
  },
  {
   "cell_type": "markdown",
   "id": "1a3f4ff8",
   "metadata": {},
   "source": [
    "# Distribution of bytes within 16 byte blocks"
   ]
  },
  {
   "cell_type": "code",
   "execution_count": null,
   "id": "0912ddbb",
   "metadata": {},
   "outputs": [],
   "source": [
    "from struct import unpack\n",
    "import pandas as pd\n",
    "\n",
    "bytelen = 16\n",
    "\n",
    "with open(\"../un3_2.dat\", \"rb\") as f:\n",
    "    vals = []\n",
    "    while ((data := f.read(bytelen))):\n",
    "        vals.append([int.from_bytes(data[i:i+1]) for i in range(bytelen)])\n",
    "\n",
    "df = pd.DataFrame(vals, columns=[\"i\" + str(i) for i in range(bytelen)])\n",
    "df"
   ]
  },
  {
   "cell_type": "code",
   "execution_count": null,
   "id": "f67762f9",
   "metadata": {},
   "outputs": [],
   "source": [
    "plt.rcParams['figure.dpi'] = 300\n",
    "plt.rcParams['figure.figsize'] = (10, 8)\n",
    "fig, ax = plt.subplots(4)\n",
    "for i in range(4):\n",
    "    df[\"i\" + str(i)].hist(bins=256, ax=ax[i])\n",
    "    ax[i].set_xlim(0, 256)\n",
    "plt.show()"
   ]
  },
  {
   "cell_type": "code",
   "execution_count": null,
   "id": "e7a3180a",
   "metadata": {},
   "outputs": [],
   "source": [
    "#dfcount = pd.concat([df[\"i\" + str(i)].value_counts()[:4] for i in range(bytelen)], axis=1)\n",
    "dfcount = pd.DataFrame()\n",
    "for i in range(bytelen):\n",
    "    counts = df[\"i\" + str(i)].value_counts()[:10]    \n",
    "    dfcount = pd.concat([\n",
    "        dfcount, \n",
    "        pd.DataFrame({\"i\" + str(i): counts.index.tolist(), \"c\" + str(i): counts.tolist()})\n",
    "    ], axis=1)\n",
    "dfcount.transpose()"
   ]
  },
  {
   "cell_type": "markdown",
   "id": "61b83bb7",
   "metadata": {},
   "source": [
    "looks as if the first 8 bytes are two 4 byte numbers in little endian"
   ]
  },
  {
   "cell_type": "code",
   "execution_count": null,
   "id": "a2f1eaa6",
   "metadata": {},
   "outputs": [],
   "source": [
    "from struct import unpack\n",
    "import pandas as pd\n",
    "\n",
    "bytelen = 16\n",
    "\n",
    "with open(\"../un3_2.dat\", \"rb\") as f:\n",
    "    vals = []\n",
    "    while ((data := f.read(bytelen))):\n",
    "        vals.append([\n",
    "            unpack(\"<f\", data[0:4])[0],\n",
    "            unpack(\"<f\", data[4:8])[0],\n",
    "            int.from_bytes(data[13:14]),\n",
    "            int.from_bytes(data[15:16]),\n",
    "        ])\n",
    "\n",
    "df = pd.DataFrame(vals, columns=[\"x\", \"y\", \"i13\", \"i15\"])\n",
    "df[\"i13\"].value_counts()"
   ]
  },
  {
   "cell_type": "code",
   "execution_count": null,
   "id": "aee515f6",
   "metadata": {},
   "outputs": [],
   "source": [
    "plt.rcParams['figure.figsize'] = (10, 10)\n",
    "plt.rcParams['figure.dpi'] = 140\n",
    "df_0 = df[df[\"i13\"] == 0]\n",
    "df_1 = df[df[\"i13\"] == 1]\n",
    "df_2 = df[df[\"i13\"] == 2]\n",
    "plt.plot(df_0.x, df_0.y, 'o', markersize=0.1, color='r')\n",
    "plt.plot(df_1.x, df_1.y, 'o', markersize=0.1, color='g')\n",
    "plt.plot(df_2.x, df_2.y, 'o', markersize=0.1, color='b')\n",
    "plt.gca().invert_yaxis()\n",
    "plt.show()"
   ]
  },
  {
   "cell_type": "markdown",
   "id": "a9479df4",
   "metadata": {},
   "source": [
    "# File size computations"
   ]
  },
  {
   "cell_type": "code",
   "execution_count": null,
   "id": "c29db8d1",
   "metadata": {},
   "outputs": [],
   "source": [
    "tiles = 24701+2240+169+20\n",
    "\n",
    "un1 = 316020\n",
    "un2 = 2538456\n",
    "un3 = 2672062\n",
    "un31 = 980862\n",
    "un32 = 1691200\n",
    "\n",
    "un1/tiles, un2/tiles, un3/tiles, un31/tiles, un32/tiles"
   ]
  },
  {
   "cell_type": "code",
   "execution_count": null,
   "id": "8d91bf29",
   "metadata": {},
   "outputs": [],
   "source": [
    "fsize = 1691200\n",
    "fsize / 16, fsize % 16"
   ]
  }
 ],
 "metadata": {
  "language_info": {
   "name": "python",
   "pygments_lexer": "ipython3"
  }
 },
 "nbformat": 4,
 "nbformat_minor": 5
}
