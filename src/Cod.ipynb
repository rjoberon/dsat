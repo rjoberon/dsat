{
 "cells": [
  {
   "cell_type": "markdown",
   "id": "d4188895",
   "metadata": {},
   "source": [
    "# Analysing COD/CIS Images"
   ]
  },
  {
   "cell_type": "markdown",
   "id": "66c7a9f7",
   "metadata": {},
   "source": [
    "## Values in \"unknown\" part(s) of header"
   ]
  },
  {
   "cell_type": "code",
   "execution_count": null,
   "id": "a3d5bae1",
   "metadata": {},
   "outputs": [],
   "source": [
    "from dsat import Dsat\n",
    "import pandas as pd\n",
    "\n",
    "d = Dsat.from_file(\"../dsatnord.mp\")\n",
    "\n",
    "data = []\n",
    "for t in d.tiles_zoom2.tiles:\n",
    "    data.append([int(h) for h in t.header.unknown5])\n",
    "\n",
    "df = pd.DataFrame(data)\n",
    "df.nunique().plot.bar()"
   ]
  },
  {
   "cell_type": "markdown",
   "id": "d916a23f",
   "metadata": {},
   "source": [
    "## Stats about \"cod\" parts"
   ]
  },
  {
   "cell_type": "markdown",
   "id": "dd7d6202",
   "metadata": {},
   "source": [
    "### Number of parts per tile"
   ]
  },
  {
   "cell_type": "code",
   "execution_count": null,
   "id": "b826d142",
   "metadata": {},
   "outputs": [],
   "source": [
    "import pandas as pd\n",
    "from cis import Cis\n",
    "\n",
    "def le16(b):\n",
    "    return int.from_bytes(b, byteorder=\"little\", signed=False)\n",
    "\n",
    "def get_planes(b):\n",
    "    \"\"\"Statistics about \"cod\" parts in byte array b.\"\"\"\n",
    "    planes = []\n",
    "    lastpos = 0\n",
    "    for i in range(0, len(b) - 2):\n",
    "        if chr(b[i]) == 'c' and chr(b[i+1]) == 'o' and chr(b[i+2]) == 'd':\n",
    "            planes.append(b[lastpos:i])\n",
    "            lastpos = i + 3\n",
    "    return planes\n",
    "\n",
    "img = \"../img/wolf.cod\"\n",
    "img = \"../img/tile_644684211.cod\"\n",
    "\n",
    "c = Cis.from_file(img)\n",
    "\n",
    "planes = get_planes(c.data.planes)\n",
    "\n",
    "[(le16(b[0:2]), le16(b[2:4]), le16(b[4:6]), len(b)) for b in planes]"
   ]
  },
  {
   "cell_type": "code",
   "execution_count": null,
   "id": "820189f7",
   "metadata": {},
   "outputs": [],
   "source": [
    "from dsat import Dsat\n",
    "import pandas as pd\n",
    "\n",
    "d = Dsat.from_file(\"../dsatnord.mp\")\n",
    "\n",
    "def count_cod(b):\n",
    "    \"\"\"Statistics about \"cod\" parts in byte array b.\"\"\"\n",
    "    pos = []\n",
    "    for i in range(0, len(b) - 2):\n",
    "        if chr(b[i]) == 'c' and chr(b[i+1]) == 'o' and chr(b[i+2]) == 'd':\n",
    "            pos.append(i)\n",
    "    return len(pos)\n",
    "\n",
    "print(0, pd.DataFrame([count_cod(t.data.unknown) for t in d.tiles_zoom0.tiles]).value_counts(), sep='\\n')\n",
    "print(1, pd.DataFrame([count_cod(t.data.unknown) for t in d.tiles_zoom1.tiles]).value_counts(), sep='\\n')\n",
    "print(2, pd.DataFrame([count_cod(t.data.unknown) for t in d.tiles_zoom2.tiles]).value_counts(), sep='\\n')\n",
    "print(3, pd.DataFrame([count_cod(t.data.unknown) for t in d.tiles_zoom3.tiles]).value_counts(), sep='\\n')"
   ]
  },
  {
   "cell_type": "markdown",
   "id": "209de334",
   "metadata": {},
   "source": [
    "### Number of distinct distances between parts"
   ]
  },
  {
   "cell_type": "code",
   "execution_count": null,
   "id": "37eb2144",
   "metadata": {},
   "outputs": [],
   "source": [
    "from dsat import Dsat\n",
    "import pandas as pd\n",
    "\n",
    "d = Dsat.from_file(\"../dsatnord.mp\")\n",
    "\n",
    "def count_cod(b):\n",
    "    \"\"\"Statistics about \"cod\" parts in byte array b.\"\"\"\n",
    "    dists = set()\n",
    "    lastpos = 0\n",
    "    for i in range(0, len(b) - 2):\n",
    "        if chr(b[i]) == 'c' and chr(b[i+1]) == 'o' and chr(b[i+2]) == 'd':\n",
    "            dists.add(i - lastpos)\n",
    "    return len(dists)\n",
    "\n",
    "print(0, pd.DataFrame([count_cod(t.data.unknown) for t in d.tiles_zoom0.tiles]).value_counts(), sep='\\n')\n",
    "print(1, pd.DataFrame([count_cod(t.data.unknown) for t in d.tiles_zoom1.tiles]).value_counts(), sep='\\n')\n",
    "print(2, pd.DataFrame([count_cod(t.data.unknown) for t in d.tiles_zoom2.tiles]).value_counts(), sep='\\n')\n",
    "print(3, pd.DataFrame([count_cod(t.data.unknown) for t in d.tiles_zoom3.tiles]).value_counts(), sep='\\n')"
   ]
  },
  {
   "cell_type": "markdown",
   "id": "58177f8d",
   "metadata": {},
   "source": [
    "## Size Distribution of Sub-Bands"
   ]
  },
  {
   "cell_type": "code",
   "execution_count": null,
   "id": "82fe4607",
   "metadata": {},
   "outputs": [],
   "source": [
    "from dsat import Dsat\n",
    "import pandas as pd\n",
    "import matplotlib.pyplot as plt\n",
    "import seaborn as sns\n",
    "\n",
    "plt.rcParams['figure.figsize'] = (10, 10)\n",
    "plt.rcParams['figure.dpi'] = 140\n",
    "\n",
    "def cod_sizes(b):\n",
    "    \"\"\"Sizes of \"cod\"-delimited parts in byte array b.\"\"\"\n",
    "    sizes = []\n",
    "    lastpos = 0\n",
    "    for i in range(0, len(b) - 2):\n",
    "        if chr(b[i]) == 'c' and chr(b[i+1]) == 'o' and chr(b[i+2]) == 'd':\n",
    "            sizes.append(i - lastpos)\n",
    "    return sizes\n",
    "\n",
    "df = pd.DataFrame([cod_sizes(t.data.planes) for t in Dsat.from_file(\"../dsatnord.mp\").tiles_zoom3.tiles])\n",
    "\n",
    "ax = sns.violinplot(df, inner=None, split=False, log_scale=True, zorder=3, density_norm=\"count\", common_norm=True)\n",
    "plt.ylabel(\"size [bytes]\")\n",
    "plt.xlabel(\"sub-band\")\n",
    "plt.grid(axis=\"y\", which=\"both\", zorder=0)\n",
    "for i in df.columns:\n",
    "    ax.text(i + 0.1, df[[i]].min().iloc[0], \"{:2.0f}\".format(df[[i]].mean().iloc[0]))\n",
    "\n",
    "plt.show()"
   ]
  },
  {
   "cell_type": "code",
   "execution_count": null,
   "id": "05074bd2",
   "metadata": {},
   "outputs": [],
   "source": [
    "df[[1]].max()"
   ]
  }
 ],
 "metadata": {
  "language_info": {
   "name": "python",
   "pygments_lexer": "ipython3"
  }
 },
 "nbformat": 4,
 "nbformat_minor": 5
}
