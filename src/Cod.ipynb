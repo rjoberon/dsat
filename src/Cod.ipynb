{
 "cells": [
  {
   "cell_type": "markdown",
   "id": "d4188895",
   "metadata": {},
   "source": [
    "# Analysing COD/CIS Images"
   ]
  },
  {
   "cell_type": "markdown",
   "id": "66c7a9f7",
   "metadata": {},
   "source": [
    "## Values in the \"unknown\" part(s) of the header"
   ]
  },
  {
   "cell_type": "code",
   "execution_count": null,
   "id": "a3d5bae1",
   "metadata": {},
   "outputs": [],
   "source": [
    "from dsat import Dsat\n",
    "import pandas as pd\n",
    "import matplotlib.pyplot as plt\n",
    "\n",
    "d = Dsat.from_file(\"../dsatnord.mp\")\n",
    "\n",
    "data = []\n",
    "for t in d.tiles_zoom3.tiles:\n",
    "    data.append([int(h) for h in t.header.unknown5])\n",
    "\n",
    "df = pd.DataFrame(data)\n",
    "df.nunique().plot.bar()\n",
    "plt.show()"
   ]
  },
  {
   "cell_type": "code",
   "execution_count": null,
   "id": "4cec8299",
   "metadata": {},
   "outputs": [],
   "source": [
    "from dsat import Dsat\n",
    "import pandas as pd\n",
    "d = Dsat.from_file(\"../dsatnord.mp\")\n",
    "\n",
    "df = pd.DataFrame([[int(h) for h in t.header.unknown5] for t in d.tiles_zoom1.tiles])"
   ]
  },
  {
   "cell_type": "code",
   "execution_count": null,
   "id": "90b9e2dd",
   "metadata": {},
   "outputs": [],
   "source": [
    "df"
   ]
  },
  {
   "cell_type": "markdown",
   "id": "d916a23f",
   "metadata": {},
   "source": [
    "## Stats about \"cod\" parts"
   ]
  },
  {
   "cell_type": "markdown",
   "id": "dd7d6202",
   "metadata": {},
   "source": [
    "### Number of parts per tile"
   ]
  },
  {
   "cell_type": "code",
   "execution_count": null,
   "id": "b826d142",
   "metadata": {},
   "outputs": [],
   "source": [
    "import pandas as pd\n",
    "from cis import Cis\n",
    "\n",
    "def le16(b):\n",
    "    return int.from_bytes(b, byteorder=\"little\", signed=False)\n",
    "\n",
    "def get_planes(b):\n",
    "    \"\"\"Statistics about \"cod\" parts in byte array b.\"\"\"\n",
    "    planes = []\n",
    "    lastpos = 0\n",
    "    for i in range(0, len(b) - 2):\n",
    "        if chr(b[i]) == 'c' and chr(b[i+1]) == 'o' and chr(b[i+2]) == 'd':\n",
    "            planes.append(b[lastpos:i])\n",
    "            lastpos = i + 3\n",
    "    return planes\n",
    "\n",
    "img = \"../img/wolf.cod\"\n",
    "img = \"../img/tile_644684211.cod\"\n",
    "\n",
    "c = Cis.from_file(img)\n",
    "\n",
    "planes = get_planes(c.data.planes)\n",
    "\n",
    "[(le16(b[0:2]), le16(b[2:4]), le16(b[4:6]), len(b)) for b in planes]"
   ]
  },
  {
   "cell_type": "code",
   "execution_count": null,
   "id": "820189f7",
   "metadata": {},
   "outputs": [],
   "source": [
    "from dsat import Dsat\n",
    "import pandas as pd\n",
    "\n",
    "d = Dsat.from_file(\"../dsatnord.mp\")\n",
    "\n",
    "def count_cod(b):\n",
    "    \"\"\"Statistics about \"cod\" parts in byte array b.\"\"\"\n",
    "    pos = []\n",
    "    for i in range(0, len(b) - 2):\n",
    "        if chr(b[i]) == 'c' and chr(b[i+1]) == 'o' and chr(b[i+2]) == 'd':\n",
    "            pos.append(i)\n",
    "    return len(pos)\n",
    "\n",
    "print(0, pd.DataFrame([count_cod(t.data.unknown) for t in d.tiles_zoom0.tiles]).value_counts(), sep='\\n')\n",
    "print(1, pd.DataFrame([count_cod(t.data.unknown) for t in d.tiles_zoom1.tiles]).value_counts(), sep='\\n')\n",
    "print(2, pd.DataFrame([count_cod(t.data.unknown) for t in d.tiles_zoom2.tiles]).value_counts(), sep='\\n')\n",
    "print(3, pd.DataFrame([count_cod(t.data.unknown) for t in d.tiles_zoom3.tiles]).value_counts(), sep='\\n')"
   ]
  },
  {
   "cell_type": "markdown",
   "id": "63836464",
   "metadata": {},
   "source": [
    "### Looking at the some header parts"
   ]
  },
  {
   "cell_type": "code",
   "execution_count": null,
   "id": "b471bdb8",
   "metadata": {},
   "outputs": [],
   "source": [
    "from dsat import Dsat\n",
    "import pandas as pd\n",
    "\n",
    "d = Dsat.from_file(\"../dsatnord.mp\")\n",
    "\n",
    "def count_cod(b):\n",
    "    \"\"\"Statistics about \"cod\" parts in byte array b.\"\"\"\n",
    "    pos = []\n",
    "    for i in range(0, len(b) - 2):\n",
    "        if chr(b[i]) == 'c' and chr(b[i+1]) == 'o' and chr(b[i+2]) == 'd':\n",
    "            pos.append(i)\n",
    "    return len(pos)\n",
    "\n",
    "df = pd.DataFrame(\n",
    "    [\n",
    "        [count_cod(t.data.planes)] + \n",
    "        [int(i) for i in t.header.unknown5] for t in d.tiles_zoom3.tiles]\n",
    ")\n",
    "df"
   ]
  },
  {
   "cell_type": "code",
   "execution_count": null,
   "id": "3d55e682",
   "metadata": {},
   "outputs": [],
   "source": [
    "from dsat import Dsat\n",
    "from cis import Cis\n",
    "import pandas as pd\n",
    "\n",
    "\n",
    "def count_cod_parts(b):\n",
    "    \"\"\"Statistics about \"cod\" parts in byte array b.\"\"\"\n",
    "    pos = []\n",
    "    for i in range(0, len(b) - 2):\n",
    "        if chr(b[i]) == 'c' and chr(b[i+1]) == 'o' and chr(b[i+2]) == 'd':\n",
    "            pos.append(i)\n",
    "    return len(pos)\n",
    "\n",
    "\n",
    "def header_stats(img):\n",
    "    return [\n",
    "        img.header.width, \n",
    "        img.header.height, \n",
    "        count_cod(img.data.planes)\n",
    "    ] + [int(i) for i in img.header.unknown5]\n",
    "\n",
    "\n",
    "def stats(name, tiles):\n",
    "    return [[name] + header_stats(img) for img in tiles]\n",
    "\n",
    "\n",
    "d = Dsat.from_file(\"../dsatnord.mp\")\n",
    "fox = Cis.from_file(\"../img/fox.cod\")\n",
    "wolf = Cis.from_file(\"../img/wolf.cod\")\n",
    "\n",
    "df = pd.DataFrame(\n",
    "    [\n",
    "        [\"fox\"] + header_stats(fox), \n",
    "        [\"wolf\"] + header_stats(wolf)\n",
    "    ] + \n",
    "    stats(\"zoom0\", d.tiles_zoom0.tiles) + \n",
    "    stats(\"zoom1\", d.tiles_zoom1.tiles) + \n",
    "    stats(\"zoom2\", d.tiles_zoom2.tiles) + \n",
    "    stats(\"zoom3\", d.tiles_zoom3.tiles),\n",
    "    columns = [\n",
    "        \"name\", \"width\", \"height\", \"bands\"\n",
    "    ] + [\"h\" + str(i) for i in range(43 - 3)]\n",
    ")\n",
    "\n",
    "df"
   ]
  },
  {
   "cell_type": "markdown",
   "id": "1e682e49",
   "metadata": {},
   "source": [
    "Only few parts of the header actually change from image to image: mainly h10 to h33 which might represent six 32 bit numbers, given their value distribution in the first plot of this notebook. Thus, we focus on the parts which are the same for most images and try to understand their meaning: "
   ]
  },
  {
   "cell_type": "code",
   "execution_count": null,
   "id": "3026a626",
   "metadata": {},
   "outputs": [],
   "source": [
    "dfa = df.drop(columns = [\n",
    "    \"h10\", \"h11\", \"h12\", \"h13\",\n",
    "    \"h14\", \"h15\", \"h16\", \"h17\",\n",
    "    \"h18\", \"h19\", \"h20\", \"h21\",\n",
    "    \"h22\", \"h23\", \"h24\", \"h25\",\n",
    "    \"h26\", \"h27\", \"h28\", \"h29\",\n",
    "    \"h30\", \"h31\", \"h32\", \"h33\"\n",
    "]).drop_duplicates().sort_values(\"bands\")\n",
    "dfa"
   ]
  },
  {
   "cell_type": "markdown",
   "id": "a46abbe4",
   "metadata": {},
   "source": [
    "Given that the zoom3 images are greyscale and all others colour, we could guess the following purposes:\n",
    "\n",
    "| byte | purpose |\n",
    "|------|:--------|\n",
    "|  h0  | number of bits for each pixel (8 for greyscale, 24 for colour)? |\n",
    "|  h1  | greyscale vs. colour? |\n",
    "|  h9  | default depth of wavelet decomposition? |\n",
    "| h10  | relative depth (to default) used for greyscale images, i.e., actual depth = h9 - h10? |\n",
    "| h36 to h39 | relative depths for the individual colour components (although we would expect only three values not four)? |\n",
    "\n",
    "Given the depth *d*, the number of bands for one component (e.g., colour) is computed as *3d + 1*. So for the greyscale images, a depth of *5 - 1 = 4* would result in *3 * 4 + 1 = 13* bands which fits nicely to almost all of the greyscale images (24667 out of 24700).\n",
    "\n",
    "Let's define a function that computes the number of bands for colour images from a default depth and relative depths for each of the three components of the [Y'UV colour model](https://en.wikipedia.org/wiki/Y%E2%80%B2UV): "
   ]
  },
  {
   "cell_type": "code",
   "execution_count": null,
   "id": "598bb975",
   "metadata": {},
   "outputs": [],
   "source": [
    "def calc_bands(default_depth, y, b, r):\n",
    "    return (default_depth - y) * 3 + 1 + (default_depth - b) * 3 + 1 + (default_depth - r) * 3 + 1 "
   ]
  },
  {
   "cell_type": "markdown",
   "id": "41921faa",
   "metadata": {},
   "source": [
    "Let's take the values h36, h37, and h38 as relative depths for y, b, and r, respectively:"
   ]
  },
  {
   "cell_type": "code",
   "execution_count": null,
   "id": "b29e0f01",
   "metadata": {},
   "outputs": [],
   "source": [
    "dfa[\"bands'\"] = calc_bands(df[\"h9\"], df[\"h36\"], df[\"h37\"], df[\"h38\"])\n",
    "dfa"
   ]
  },
  {
   "cell_type": "markdown",
   "id": "9c37d28e",
   "metadata": {},
   "source": [
    "The computed number of bands fits nicely for almost all colour tiles, except only one (!) with 37 bands. The \"fox\" and \"wolf\" example images are the only ones that have a non-zero value for h39 and the number of computed bands is too large by 3 for each of them. So maybe the 1 in h39 tells us to reduce the number of bands by 3 – but why? "
   ]
  },
  {
   "cell_type": "markdown",
   "id": "209de334",
   "metadata": {},
   "source": [
    "### Number of distinct distances between parts"
   ]
  },
  {
   "cell_type": "code",
   "execution_count": null,
   "id": "37eb2144",
   "metadata": {},
   "outputs": [],
   "source": [
    "from dsat import Dsat\n",
    "import pandas as pd\n",
    "\n",
    "d = Dsat.from_file(\"../dsatnord.mp\")\n",
    "\n",
    "def count_cod(b):\n",
    "    \"\"\"Statistics about \"cod\" parts in byte array b.\"\"\"\n",
    "    dists = set()\n",
    "    lastpos = 0\n",
    "    for i in range(0, len(b) - 2):\n",
    "        if chr(b[i]) == 'c' and chr(b[i+1]) == 'o' and chr(b[i+2]) == 'd':\n",
    "            dists.add(i - lastpos)\n",
    "    return len(dists)\n",
    "\n",
    "print(0, pd.DataFrame([count_cod(t.data.unknown) for t in d.tiles_zoom0.tiles]).value_counts(), sep='\\n')\n",
    "print(1, pd.DataFrame([count_cod(t.data.unknown) for t in d.tiles_zoom1.tiles]).value_counts(), sep='\\n')\n",
    "print(2, pd.DataFrame([count_cod(t.data.unknown) for t in d.tiles_zoom2.tiles]).value_counts(), sep='\\n')\n",
    "print(3, pd.DataFrame([count_cod(t.data.unknown) for t in d.tiles_zoom3.tiles]).value_counts(), sep='\\n')"
   ]
  },
  {
   "cell_type": "markdown",
   "id": "58177f8d",
   "metadata": {},
   "source": [
    "### Size Distribution of Sub-Bands"
   ]
  },
  {
   "cell_type": "code",
   "execution_count": null,
   "id": "905c9bdb",
   "metadata": {},
   "outputs": [],
   "source": [
    "from dsat import Dsat\n",
    "import pandas as pd\n",
    "import matplotlib.pyplot as plt\n",
    "import seaborn as sns\n",
    "\n",
    "plt.rcParams['figure.figsize'] = (10, 10)\n",
    "plt.rcParams['figure.dpi'] = 140\n",
    "\n",
    "def cod_sizes(b):\n",
    "    \"\"\"Sizes of \"cod\"-delimited parts in byte array b.\"\"\"\n",
    "    sizes = []\n",
    "    lastpos = 0\n",
    "    for i in range(0, len(b) - 2):\n",
    "        if chr(b[i]) == 'c' and chr(b[i+1]) == 'o' and chr(b[i+2]) == 'd':\n",
    "            sizes.append(i - lastpos)\n",
    "    return sizes\n",
    "\n",
    "df = pd.DataFrame([cod_sizes(t.data.planes) for t in Dsat.from_file(\"../dsatnord.mp\").tiles_zoom3.tiles])\n",
    "\n",
    "ax = sns.violinplot(df, inner=None, split=False, log_scale=True, zorder=3, density_norm=\"count\", common_norm=True)\n",
    "plt.ylabel(\"size [bytes]\")\n",
    "plt.xlabel(\"sub-band\")\n",
    "plt.grid(axis=\"y\", which=\"both\", zorder=0)\n",
    "for i in df.columns:\n",
    "    ax.text(i + 0.1, df[[i]].min().iloc[0], \"{:2.0f}\".format(df[[i]].mean().iloc[0]))\n",
    "\n",
    "plt.show()"
   ]
  }
 ],
 "metadata": {
  "language_info": {
   "name": "python",
   "pygments_lexer": "ipython3"
  }
 },
 "nbformat": 4,
 "nbformat_minor": 5
}
